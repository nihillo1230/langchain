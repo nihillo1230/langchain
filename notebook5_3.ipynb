{
 "cells": [
  {
   "cell_type": "code",
   "execution_count": 1,
   "metadata": {},
   "outputs": [
    {
     "data": {
      "text/plain": [
       "{'history': \"Human: Hi I'm nihillo, I live in South Korea\\nAI: Wow that is go cool!\\nHuman: I teach about computer in a middle school\\nAI: what a important occupation!!\"}"
      ]
     },
     "execution_count": 1,
     "metadata": {},
     "output_type": "execute_result"
    }
   ],
   "source": [
    "from langchain.memory import ConversationSummaryBufferMemory\n",
    "from langchain.chat_models import ChatOpenAI\n",
    "\n",
    "llm = ChatOpenAI(temperature=0.1)\n",
    "\n",
    "memory = ConversationSummaryBufferMemory(\n",
    "    llm=llm,\n",
    "    # return_messages = True,\n",
    "    max_token_limit = 100,\n",
    ")\n",
    "\n",
    "def add_message(input, output):\n",
    "    memory.save_context({\"input\":input},{\"output\":output})\n",
    "\n",
    "def get_history():\n",
    "    return memory.load_memory_variables({})\n",
    "\n",
    "add_message(\"Hi I'm nihillo, I live in South Korea\",\"Wow that is go cool!\")\n",
    "\n",
    "add_message(\"I teach about computer in a middle school\", \"what a important occupation!!\")\n",
    "\n",
    "get_history()"
   ]
  },
  {
   "cell_type": "code",
   "execution_count": 2,
   "metadata": {},
   "outputs": [
    {
     "data": {
      "text/plain": [
       "{'history': [HumanMessage(content=\"Hi I'm nihillo, I live in South Korea\"),\n",
       "  AIMessage(content='Wow that is go cool!'),\n",
       "  HumanMessage(content='I teach about computer in a middle school'),\n",
       "  AIMessage(content='what a important occupation!!'),\n",
       "  HumanMessage(content=\"I'm spending my summer vacation in home\"),\n",
       "  AIMessage(content=\"That's pity!!! why don't you make a trip?\")]}"
      ]
     },
     "execution_count": 2,
     "metadata": {},
     "output_type": "execute_result"
    }
   ],
   "source": [
    "add_message(\"I'm spending my summer vacation in home\",\"That's pity!!! why don't you make a trip?\")\n",
    "\n",
    "get_history()"
   ]
  },
  {
   "cell_type": "code",
   "execution_count": 3,
   "metadata": {},
   "outputs": [
    {
     "data": {
      "text/plain": [
       "{'history': [SystemMessage(content='The human introduces themselves as nihillo and mentions they live in South Korea. The AI responds by expressing admiration for that fact.'),\n",
       "  HumanMessage(content='I teach about computer in a middle school'),\n",
       "  AIMessage(content='what a important occupation!!'),\n",
       "  HumanMessage(content=\"I'm spending my summer vacation in home\"),\n",
       "  AIMessage(content=\"That's pity!!! why don't you make a trip?\"),\n",
       "  HumanMessage(content='I have a lot of things to do during vacation. studying, reading, swimming etc...'),\n",
       "  AIMessage(content='oh... I think you must be need some rest!!!')]}"
      ]
     },
     "execution_count": 3,
     "metadata": {},
     "output_type": "execute_result"
    }
   ],
   "source": [
    "add_message(\"I have a lot of things to do during vacation. studying, reading, swimming etc...\",\"oh... I think you must be need some rest!!!\")\n",
    "\n",
    "get_history()"
   ]
  },
  {
   "cell_type": "code",
   "execution_count": null,
   "metadata": {},
   "outputs": [],
   "source": [
    "add_message(\"I like this pattern of life. I think I\",\"oh... I think you must be need some rest!!!\")\n",
    "\n",
    "get_history()"
   ]
  }
 ],
 "metadata": {
  "kernelspec": {
   "display_name": "env",
   "language": "python",
   "name": "python3"
  },
  "language_info": {
   "codemirror_mode": {
    "name": "ipython",
    "version": 3
   },
   "file_extension": ".py",
   "mimetype": "text/x-python",
   "name": "python",
   "nbconvert_exporter": "python",
   "pygments_lexer": "ipython3",
   "version": "3.10.8"
  }
 },
 "nbformat": 4,
 "nbformat_minor": 2
}
