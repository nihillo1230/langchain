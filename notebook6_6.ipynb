{
 "cells": [
  {
   "cell_type": "code",
   "execution_count": 11,
   "metadata": {},
   "outputs": [
    {
     "data": {
      "text/plain": [
       "'Victory Mansions is a rundown, dilapidated apartment complex located in London, depicted in George Orwell\\'s novel \"1984.\" The building has rotting nineteenth-century houses with sides shored up with timber, windows patched with cardboard, and roofs made of corrugated iron. Surrounding the area are bombed sites, sagging garden walls, and sordid colonies of wooden dwellings. Inside, there are telescreens constantly broadcasting Party propaganda, creating a cold and austere atmosphere. The living conditions are grim, with shortages of basic necessities, lack of privacy due to constant surveillance, and patrols by the Thought Police.'"
      ]
     },
     "execution_count": 11,
     "metadata": {},
     "output_type": "execute_result"
    }
   ],
   "source": [
    "from langchain.chat_models import ChatOpenAI\n",
    "from langchain.document_loaders import UnstructuredFileLoader\n",
    "from langchain.text_splitter import CharacterTextSplitter\n",
    "from langchain.embeddings import OpenAIEmbeddings, CacheBackedEmbeddings\n",
    "from langchain.vectorstores import Chroma, FAISS\n",
    "from langchain.storage import LocalFileStore\n",
    "from langchain.chains import RetrievalQA\n",
    "\n",
    "llm = ChatOpenAI()\n",
    "\n",
    "cache_dir = LocalFileStore(\"./.cache/\")\n",
    "\n",
    "splitter = CharacterTextSplitter.from_tiktoken_encoder(\n",
    "    separator = \"\\n\",\n",
    "    chunk_size = 300,\n",
    "    chunk_overlap = 50,\n",
    ")\n",
    "\n",
    "loader = UnstructuredFileLoader('./files/george_orwell.csv')\n",
    "\n",
    "docs = loader.load_and_split(text_splitter=splitter)\n",
    "\n",
    "embeddings = OpenAIEmbeddings()\n",
    "cached_embeddings = CacheBackedEmbeddings.from_bytes_store(embeddings, cache_dir)\n",
    "\n",
    "# vectorstore = Chroma.from_documents(docs,cached_embeddings)\n",
    "\n",
    "vectorstore = FAISS.from_documents(docs,cached_embeddings)\n",
    "\n",
    "# chain = RetrievalQA.from_chain_type(\n",
    "#     llm = llm,\n",
    "#     chain_type = \"stuff\",\n",
    "#     retriever = vectorstore.as_retriever(),\n",
    "# )\n",
    "\n",
    "# chain = RetrievalQA.from_chain_type(\n",
    "#     llm = llm,\n",
    "#     chain_type = \"refine\",\n",
    "#     retriever = vectorstore.as_retriever(),\n",
    "# )\n",
    "\n",
    "# chain = RetrievalQA.from_chain_type(\n",
    "#     llm = llm,\n",
    "#     chain_type = \"map_reduce\",\n",
    "#     retriever = vectorstore.as_retriever(),\n",
    "# )\n",
    "\n",
    "chain = RetrievalQA.from_chain_type(\n",
    "    llm = llm,\n",
    "    chain_type = \"map_rerank\",\n",
    "    retriever = vectorstore.as_retriever(),\n",
    ")\n",
    "\n",
    "# vectorstore.similarity_search(\"where is winston house?\")\n",
    "\n",
    "chain.run(\"Describe Victory Mansions?\")"
   ]
  }
 ],
 "metadata": {
  "kernelspec": {
   "display_name": "env",
   "language": "python",
   "name": "python3"
  },
  "language_info": {
   "codemirror_mode": {
    "name": "ipython",
    "version": 3
   },
   "file_extension": ".py",
   "mimetype": "text/x-python",
   "name": "python",
   "nbconvert_exporter": "python",
   "pygments_lexer": "ipython3",
   "version": "3.10.8"
  }
 },
 "nbformat": 4,
 "nbformat_minor": 2
}
