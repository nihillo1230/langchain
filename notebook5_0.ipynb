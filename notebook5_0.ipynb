{
 "cells": [
  {
   "cell_type": "code",
   "execution_count": 5,
   "metadata": {},
   "outputs": [
    {
     "data": {
      "text/plain": [
       "{'history': [HumanMessage(content='hi'),\n",
       "  AIMessage(content='How are you'),\n",
       "  HumanMessage(content='hi'),\n",
       "  AIMessage(content='How are you'),\n",
       "  HumanMessage(content='hi'),\n",
       "  AIMessage(content='How are you')]}"
      ]
     },
     "execution_count": 5,
     "metadata": {},
     "output_type": "execute_result"
    }
   ],
   "source": [
    "from langchain.memory import ConversationBufferMemory\n",
    "\n",
    "memory = ConversationBufferMemory(return_messages=True)\n",
    "\n",
    "memory.save_context({\"input\":\"hi\"},{\"output\":\"How are you\"})\n",
    "memory.load_memory_variables({})\n",
    "\n",
    "memory.save_context({\"input\":\"hi\"},{\"output\":\"How are you\"})\n",
    "memory.load_memory_variables({})\n",
    "\n",
    "memory.save_context({\"input\":\"hi\"},{\"output\":\"How are you\"})\n",
    "memory.load_memory_variables({})"
   ]
  }
 ],
 "metadata": {
  "kernelspec": {
   "display_name": "env",
   "language": "python",
   "name": "python3"
  },
  "language_info": {
   "codemirror_mode": {
    "name": "ipython",
    "version": 3
   },
   "file_extension": ".py",
   "mimetype": "text/x-python",
   "name": "python",
   "nbconvert_exporter": "python",
   "pygments_lexer": "ipython3",
   "version": "3.10.8"
  }
 },
 "nbformat": 4,
 "nbformat_minor": 2
}
