{
 "cells": [
  {
   "cell_type": "code",
   "execution_count": 35,
   "metadata": {},
   "outputs": [],
   "source": [
    "from langchain.chat_models import ChatOpenAI\n",
    "from langchain.document_loaders import UnstructuredFileLoader\n",
    "from langchain.text_splitter import CharacterTextSplitter\n",
    "\n",
    "splitter = CharacterTextSplitter.from_tiktoken_encoder(\n",
    "    separator=\"\\n\",\n",
    "    chunk_size=600,\n",
    "    chunk_overlap=100,\n",
    ")\n",
    "\n",
    "loader = UnstructuredFileLoader(\"./files/george_orwell.pdf\")\n",
    "\n",
    "\n"
   ]
  },
  {
   "cell_type": "code",
   "execution_count": 36,
   "metadata": {},
   "outputs": [
    {
     "name": "stdout",
     "output_type": "stream",
     "text": [
      "4\n",
      "1536\n",
      "1536\n",
      "1536\n",
      "1536\n"
     ]
    }
   ],
   "source": [
    "from langchain.embeddings import OpenAIEmbeddings\n",
    "\n",
    "embedder = OpenAIEmbeddings()\n",
    "\n",
    "# vector = embedder.embed_query(\"Hi\")\n",
    "# print(len(vector))\n",
    "\n",
    "vector = embedder.embed_documents([\n",
    "    \"hi\",\n",
    "    \"how\",\n",
    "    \"are\",\n",
    "    \"you longer sentences because\"\n",
    "])\n",
    "\n",
    "print(len(vector))\n",
    "\n",
    "for v in vector:\n",
    "    print(len(v))"
   ]
  },
  {
   "cell_type": "code",
   "execution_count": 45,
   "metadata": {},
   "outputs": [
    {
     "name": "stdout",
     "output_type": "stream",
     "text": [
      "[Document(page_content='george_orwell.md\\n2024-07-31\\nPart One\\n1 It was a bright cold day in April, and the clocks were striking thirteen. Winston Smith, his chin nuzzled into\\nhis breast in an effort to escape the vile wind, slipped quickly through the glass doors of Victory Mansions,\\nthough not quickly enough to prevent a swirl of gritty dust from entering along with him.\\nThe hallway smelt of boiled cabbage and old rag mats. At one end of it a coloured poster, too large for indoor\\ndisplay, had been tacked to the wall. It depicted simply an enormous face, more than a metre wide: the face of\\na man of about forty-five, with a heavy black moustache and ruggedly handsome features. Winston made for\\nthe stairs. It was no use trying the lift. Even at the best of times it was seldom working, and at present the\\nelectric current was cut off during daylight hours. It was part of the economy drive in preparation for Hate\\nWeek. The flat was seven flights up, and Winston, who was thirty-nine and had a varicose ulcer above his right\\nankle, went slowly, resting several times on the way. On each landing, opposite the lift-shaft, the poster with\\nthe enormous face gazed from the wall. It was one of those pictures which are so contrived that the eyes', metadata={'source': './files/george_orwell.pdf'}), Document(page_content='ankle, went slowly, resting several times on the way. On each landing, opposite the lift-shaft, the poster with\\nthe enormous face gazed from the wall. It was one of those pictures which are so contrived that the eyes\\nfollow you about when you move. BIG BROTHER IS WATCHING YOU, the caption beneath it ran.\\nInside the flat a fruity voice was reading out a list of figures which had something to do with the production of\\npig-iron. The voice came from an oblong metal plaque like a dulled mirror which formed part of the surface of\\nthe right-hand wall. Winston turned a switch and the voice sank somewhat, though the words were still\\ndistinguishable. The instrument (the telescreen, it was called) could be dimmed, but there was no way of\\nshutting it off completely. He moved over to the window: a smallish, frail figure, the meagreness of his body\\nmerely emphasized by the blue overalls which were the uniform of the party. His hair was very fair, his face\\nnaturally sanguine, his skin roughened by coarse soap and blunt razor blades and the cold of the winter that\\nhad just ended.\\nOutside, even through the shut window-pane, the world looked cold. Down in the street little eddies of wind', metadata={'source': './files/george_orwell.pdf'}), Document(page_content=\"had just ended.\\nOutside, even through the shut window-pane, the world looked cold. Down in the street little eddies of wind\\nwere whirling dust and torn paper into spirals, and though the sun was shining and the sky a harsh blue, there\\nseemed to be no colour in anything, except the posters that were plastered everywhere. The\\nblackmoustachio'd face gazed down from every commanding corner. There was one on the house-front\\nimmediately opposite. BIG BROTHER IS WATCHING YOU, the caption said, while the dark eyes looked deep\\ninto Winston's own. Down at streetlevel another poster, torn at one corner, flapped fitfully in the wind,\\nalternately covering and uncovering the single word INGSOC. In the far distance a helicopter skimmed down\\nbetween the roofs, hovered for an instant like a bluebottle, and darted away again with a curving flight. It was\\nthe police patrol, snooping into people's windows. The patrols did not matter, however. Only the Thought\\nPolice mattered.\\nBehind Winston's back the voice from the telescreen was still babbling away about pig-iron and the\\noverfulfilment of the Ninth Three-Year Plan. The telescreen received and transmitted simultaneously. Any\\nsound that Winston made, above the level of a very low whisper, would be picked up by it, moreover, so long\", metadata={'source': './files/george_orwell.pdf'}), Document(page_content='overfulfilment of the Ninth Three-Year Plan. The telescreen received and transmitted simultaneously. Any\\nsound that Winston made, above the level of a very low whisper, would be picked up by it, moreover, so long\\nas he remained within the field of vision which the metal plaque commanded, he could be seen as well as\\nheard. There was of course no way of knowing whether you were being watched at any given moment. How\\noften, or on what system, the Thought Police plugged in on any individual wire was guesswork. It was even\\nconceivable that they watched everybody all the time. But at any rate they could plug in your wire whenever\\nthey wanted to. You had to live -- did live, from habit that became instinct -- in the assumption that every\\nsound you made was overheard, and, except in darkness, every movement scrutinized.\\nWinston kept his back turned to the telescreen. It was safer, though, as he well knew, even a back can be\\nrevealing. A kilometre away the Ministry of Truth, his place of work, towered vast and white above the grimy\\n1 / 2\\ngeorge_orwell.md\\n2024-07-31\\nlandscape. This, he thought with a sort of vague distaste -- this was London, chief city of Airstrip One, itself', metadata={'source': './files/george_orwell.pdf'}), Document(page_content='1 / 2\\ngeorge_orwell.md\\n2024-07-31\\nlandscape. This, he thought with a sort of vague distaste -- this was London, chief city of Airstrip One, itself\\nthe third most populous of the provinces of Oceania. He tried to squeeze out some childhood memory that\\nshould tell him whether London had always been quite like this. Were there always these vistas of rotting\\nnineteenth-century houses, their sides shored up with baulks of timber, their windows patched with cardboard\\nand their roofs with corrugated iron, their crazy garden walls sagging in all directions? And the bombed sites\\nwhere the plaster dust swirled in the air and the willow-herb straggled over the heaps of rubble; and the\\nplaces where the bombs had cleared a larger patch and there had sprung up sordid colonies of wooden\\ndwellings like chicken-houses? But it was no use, he could not remember: nothing remained of his childhood\\nexcept a series of bright-lit tableaux occurring against no background and mostly unintelligible.\\nThe Ministry of Truth -- Minitrue, in Newspeak -- was startlingly different from any other object in sight. It was\\nan enormous pyramidal structure of glittering white concrete, soaring up, terrace after terrace, 300 metres', metadata={'source': './files/george_orwell.pdf'}), Document(page_content='The Ministry of Truth -- Minitrue, in Newspeak -- was startlingly different from any other object in sight. It was\\nan enormous pyramidal structure of glittering white concrete, soaring up, terrace after terrace, 300 metres\\ninto the air. From where Winston stood it was just possible to read, picked out on its white face in elegant\\nlettering, the three slogans of the Party:\\n2 / 2', metadata={'source': './files/george_orwell.pdf'})]\n"
     ]
    }
   ],
   "source": [
    "from langchain.chat_models import ChatOpenAI\n",
    "from langchain.document_loaders import UnstructuredFileLoader\n",
    "from langchain.text_splitter import CharacterTextSplitter\n",
    "from langchain.embeddings import OpenAIEmbeddings, CacheBackedEmbeddings\n",
    "from langchain.vectorstores import Chroma\n",
    "from langchain.storage import LocalFileStore\n",
    "\n",
    "cache_dir = LocalFileStore(\"./.cache/\")\n",
    "splitter = CharacterTextSplitter.from_tiktoken_encoder(\n",
    "    separator=\"\\n\",\n",
    "    chunk_size=300,\n",
    "    chunk_overlap=50,\n",
    ")\n",
    "\n",
    "loader = UnstructuredFileLoader(\"./files/george_orwell.pdf\")\n",
    "\n",
    "docs = loader.load_and_split(text_splitter=splitter)\n",
    "\n",
    "print(docs)\n",
    "\n",
    "embeddings = OpenAIEmbeddings()\n",
    "\n",
    "cashed_embeddings = CacheBackedEmbeddings.from_bytes_store(embeddings, cache_dir)\n",
    "\n",
    "# vectorstore = Chroma.from_documents(docs, embeddings)\n",
    "vectorstore = Chroma.from_documents(docs,cashed_embeddings)\n",
    "\n"
   ]
  },
  {
   "cell_type": "code",
   "execution_count": 46,
   "metadata": {},
   "outputs": [
    {
     "data": {
      "text/plain": [
       "[Document(page_content='george_orwell.md\\n2024-07-31\\nPart One\\n1 It was a bright cold day in April, and the clocks were striking thirteen. Winston Smith, his chin nuzzled into\\nhis breast in an effort to escape the vile wind, slipped quickly through the glass doors of Victory Mansions,\\nthough not quickly enough to prevent a swirl of gritty dust from entering along with him.\\nThe hallway smelt of boiled cabbage and old rag mats. At one end of it a coloured poster, too large for indoor\\ndisplay, had been tacked to the wall. It depicted simply an enormous face, more than a metre wide: the face of\\na man of about forty-five, with a heavy black moustache and ruggedly handsome features. Winston made for\\nthe stairs. It was no use trying the lift. Even at the best of times it was seldom working, and at present the\\nelectric current was cut off during daylight hours. It was part of the economy drive in preparation for Hate\\nWeek. The flat was seven flights up, and Winston, who was thirty-nine and had a varicose ulcer above his right\\nankle, went slowly, resting several times on the way. On each landing, opposite the lift-shaft, the poster with\\nthe enormous face gazed from the wall. It was one of those pictures which are so contrived that the eyes', metadata={'source': './files/george_orwell.pdf'}),\n",
       " Document(page_content='ankle, went slowly, resting several times on the way. On each landing, opposite the lift-shaft, the poster with\\nthe enormous face gazed from the wall. It was one of those pictures which are so contrived that the eyes\\nfollow you about when you move. BIG BROTHER IS WATCHING YOU, the caption beneath it ran.\\nInside the flat a fruity voice was reading out a list of figures which had something to do with the production of\\npig-iron. The voice came from an oblong metal plaque like a dulled mirror which formed part of the surface of\\nthe right-hand wall. Winston turned a switch and the voice sank somewhat, though the words were still\\ndistinguishable. The instrument (the telescreen, it was called) could be dimmed, but there was no way of\\nshutting it off completely. He moved over to the window: a smallish, frail figure, the meagreness of his body\\nmerely emphasized by the blue overalls which were the uniform of the party. His hair was very fair, his face\\nnaturally sanguine, his skin roughened by coarse soap and blunt razor blades and the cold of the winter that\\nhad just ended.\\nOutside, even through the shut window-pane, the world looked cold. Down in the street little eddies of wind', metadata={'source': './files/george_orwell.pdf'}),\n",
       " Document(page_content=\"had just ended.\\nOutside, even through the shut window-pane, the world looked cold. Down in the street little eddies of wind\\nwere whirling dust and torn paper into spirals, and though the sun was shining and the sky a harsh blue, there\\nseemed to be no colour in anything, except the posters that were plastered everywhere. The\\nblackmoustachio'd face gazed down from every commanding corner. There was one on the house-front\\nimmediately opposite. BIG BROTHER IS WATCHING YOU, the caption said, while the dark eyes looked deep\\ninto Winston's own. Down at streetlevel another poster, torn at one corner, flapped fitfully in the wind,\\nalternately covering and uncovering the single word INGSOC. In the far distance a helicopter skimmed down\\nbetween the roofs, hovered for an instant like a bluebottle, and darted away again with a curving flight. It was\\nthe police patrol, snooping into people's windows. The patrols did not matter, however. Only the Thought\\nPolice mattered.\\nBehind Winston's back the voice from the telescreen was still babbling away about pig-iron and the\\noverfulfilment of the Ninth Three-Year Plan. The telescreen received and transmitted simultaneously. Any\\nsound that Winston made, above the level of a very low whisper, would be picked up by it, moreover, so long\", metadata={'source': './files/george_orwell.pdf'}),\n",
       " Document(page_content='overfulfilment of the Ninth Three-Year Plan. The telescreen received and transmitted simultaneously. Any\\nsound that Winston made, above the level of a very low whisper, would be picked up by it, moreover, so long\\nas he remained within the field of vision which the metal plaque commanded, he could be seen as well as\\nheard. There was of course no way of knowing whether you were being watched at any given moment. How\\noften, or on what system, the Thought Police plugged in on any individual wire was guesswork. It was even\\nconceivable that they watched everybody all the time. But at any rate they could plug in your wire whenever\\nthey wanted to. You had to live -- did live, from habit that became instinct -- in the assumption that every\\nsound you made was overheard, and, except in darkness, every movement scrutinized.\\nWinston kept his back turned to the telescreen. It was safer, though, as he well knew, even a back can be\\nrevealing. A kilometre away the Ministry of Truth, his place of work, towered vast and white above the grimy\\n1 / 2\\ngeorge_orwell.md\\n2024-07-31\\nlandscape. This, he thought with a sort of vague distaste -- this was London, chief city of Airstrip One, itself', metadata={'source': './files/george_orwell.pdf'}),\n",
       " Document(page_content='1 / 2\\ngeorge_orwell.md\\n2024-07-31\\nlandscape. This, he thought with a sort of vague distaste -- this was London, chief city of Airstrip One, itself\\nthe third most populous of the provinces of Oceania. He tried to squeeze out some childhood memory that\\nshould tell him whether London had always been quite like this. Were there always these vistas of rotting\\nnineteenth-century houses, their sides shored up with baulks of timber, their windows patched with cardboard\\nand their roofs with corrugated iron, their crazy garden walls sagging in all directions? And the bombed sites\\nwhere the plaster dust swirled in the air and the willow-herb straggled over the heaps of rubble; and the\\nplaces where the bombs had cleared a larger patch and there had sprung up sordid colonies of wooden\\ndwellings like chicken-houses? But it was no use, he could not remember: nothing remained of his childhood\\nexcept a series of bright-lit tableaux occurring against no background and mostly unintelligible.\\nThe Ministry of Truth -- Minitrue, in Newspeak -- was startlingly different from any other object in sight. It was\\nan enormous pyramidal structure of glittering white concrete, soaring up, terrace after terrace, 300 metres', metadata={'source': './files/george_orwell.pdf'}),\n",
       " Document(page_content='The Ministry of Truth -- Minitrue, in Newspeak -- was startlingly different from any other object in sight. It was\\nan enormous pyramidal structure of glittering white concrete, soaring up, terrace after terrace, 300 metres\\ninto the air. From where Winston stood it was just possible to read, picked out on its white face in elegant\\nlettering, the three slogans of the Party:\\n2 / 2', metadata={'source': './files/george_orwell.pdf'})]"
      ]
     },
     "execution_count": 46,
     "metadata": {},
     "output_type": "execute_result"
    }
   ],
   "source": [
    "docs"
   ]
  },
  {
   "cell_type": "code",
   "execution_count": 47,
   "metadata": {},
   "outputs": [
    {
     "data": {
      "text/plain": [
       "[Document(page_content='george_orwell.md\\n2024-07-31\\nPart One\\n1 It was a bright cold day in April, and the clocks were striking thirteen. Winston Smith, his chin nuzzled into\\nhis breast in an effort to escape the vile wind, slipped quickly through the glass doors of Victory Mansions,\\nthough not quickly enough to prevent a swirl of gritty dust from entering along with him.\\nThe hallway smelt of boiled cabbage and old rag mats. At one end of it a coloured poster, too large for indoor\\ndisplay, had been tacked to the wall. It depicted simply an enormous face, more than a metre wide: the face of\\na man of about forty-five, with a heavy black moustache and ruggedly handsome features. Winston made for\\nthe stairs. It was no use trying the lift. Even at the best of times it was seldom working, and at present the\\nelectric current was cut off during daylight hours. It was part of the economy drive in preparation for Hate\\nWeek. The flat was seven flights up, and Winston, who was thirty-nine and had a varicose ulcer above his right\\nankle, went slowly, resting several times on the way. On each landing, opposite the lift-shaft, the poster with\\nthe enormous face gazed from the wall. It was one of those pictures which are so contrived that the eyes', metadata={'source': './files/george_orwell.pdf'}),\n",
       " Document(page_content='george_orwell.md\\n2024-07-31\\nPart One\\n1 It was a bright cold day in April, and the clocks were striking thirteen. Winston Smith, his chin nuzzled into\\nhis breast in an effort to escape the vile wind, slipped quickly through the glass doors of Victory Mansions,\\nthough not quickly enough to prevent a swirl of gritty dust from entering along with him.\\nThe hallway smelt of boiled cabbage and old rag mats. At one end of it a coloured poster, too large for indoor\\ndisplay, had been tacked to the wall. It depicted simply an enormous face, more than a metre wide: the face of\\na man of about forty-five, with a heavy black moustache and ruggedly handsome features. Winston made for\\nthe stairs. It was no use trying the lift. Even at the best of times it was seldom working, and at present the\\nelectric current was cut off during daylight hours. It was part of the economy drive in preparation for Hate\\nWeek. The flat was seven flights up, and Winston, who was thirty-nine and had a varicose ulcer above his right\\nankle, went slowly, resting several times on the way. On each landing, opposite the lift-shaft, the poster with\\nthe enormous face gazed from the wall. It was one of those pictures which are so contrived that the eyes', metadata={'source': './files/george_orwell.pdf'}),\n",
       " Document(page_content=\"george_orwell.md\\n2024-07-31\\nPart One\\n1 It was a bright cold day in April, and the clocks were striking thirteen. Winston Smith, his chin nuzzled into\\nhis breast in an effort to escape the vile wind, slipped quickly through the glass doors of Victory Mansions,\\nthough not quickly enough to prevent a swirl of gritty dust from entering along with him.\\nThe hallway smelt of boiled cabbage and old rag mats. At one end of it a coloured poster, too large for indoor\\ndisplay, had been tacked to the wall. It depicted simply an enormous face, more than a metre wide: the face of\\na man of about forty-five, with a heavy black moustache and ruggedly handsome features. Winston made for\\nthe stairs. It was no use trying the lift. Even at the best of times it was seldom working, and at present the\\nelectric current was cut off during daylight hours. It was part of the economy drive in preparation for Hate\\nWeek. The flat was seven flights up, and Winston, who was thirty-nine and had a varicose ulcer above his right\\nankle, went slowly, resting several times on the way. On each landing, opposite the lift-shaft, the poster with\\nthe enormous face gazed from the wall. It was one of those pictures which are so contrived that the eyes\\nfollow you about when you move. BIG BROTHER IS WATCHING YOU, the caption beneath it ran.\\nInside the flat a fruity voice was reading out a list of figures which had something to do with the production of\\npig-iron. The voice came from an oblong metal plaque like a dulled mirror which formed part of the surface of\\nthe right-hand wall. Winston turned a switch and the voice sank somewhat, though the words were still\\ndistinguishable. The instrument (the telescreen, it was called) could be dimmed, but there was no way of\\nshutting it off completely. He moved over to the window: a smallish, frail figure, the meagreness of his body\\nmerely emphasized by the blue overalls which were the uniform of the party. His hair was very fair, his face\\nnaturally sanguine, his skin roughened by coarse soap and blunt razor blades and the cold of the winter that\\nhad just ended.\\nOutside, even through the shut window-pane, the world looked cold. Down in the street little eddies of wind\\nwere whirling dust and torn paper into spirals, and though the sun was shining and the sky a harsh blue, there\\nseemed to be no colour in anything, except the posters that were plastered everywhere. The\\nblackmoustachio'd face gazed down from every commanding corner. There was one on the house-front\", metadata={'source': './files/george_orwell.pdf'}),\n",
       " Document(page_content=\"george_orwell.md\\n2024-07-31\\nPart One\\n1 It was a bright cold day in April, and the clocks were striking thirteen. Winston Smith, his chin nuzzled into\\nhis breast in an effort to escape the vile wind, slipped quickly through the glass doors of Victory Mansions,\\nthough not quickly enough to prevent a swirl of gritty dust from entering along with him.\\nThe hallway smelt of boiled cabbage and old rag mats. At one end of it a coloured poster, too large for indoor\\ndisplay, had been tacked to the wall. It depicted simply an enormous face, more than a metre wide: the face of\\na man of about forty-five, with a heavy black moustache and ruggedly handsome features. Winston made for\\nthe stairs. It was no use trying the lift. Even at the best of times it was seldom working, and at present the\\nelectric current was cut off during daylight hours. It was part of the economy drive in preparation for Hate\\nWeek. The flat was seven flights up, and Winston, who was thirty-nine and had a varicose ulcer above his right\\nankle, went slowly, resting several times on the way. On each landing, opposite the lift-shaft, the poster with\\nthe enormous face gazed from the wall. It was one of those pictures which are so contrived that the eyes\\nfollow you about when you move. BIG BROTHER IS WATCHING YOU, the caption beneath it ran.\\nInside the flat a fruity voice was reading out a list of figures which had something to do with the production of\\npig-iron. The voice came from an oblong metal plaque like a dulled mirror which formed part of the surface of\\nthe right-hand wall. Winston turned a switch and the voice sank somewhat, though the words were still\\ndistinguishable. The instrument (the telescreen, it was called) could be dimmed, but there was no way of\\nshutting it off completely. He moved over to the window: a smallish, frail figure, the meagreness of his body\\nmerely emphasized by the blue overalls which were the uniform of the party. His hair was very fair, his face\\nnaturally sanguine, his skin roughened by coarse soap and blunt razor blades and the cold of the winter that\\nhad just ended.\\nOutside, even through the shut window-pane, the world looked cold. Down in the street little eddies of wind\\nwere whirling dust and torn paper into spirals, and though the sun was shining and the sky a harsh blue, there\\nseemed to be no colour in anything, except the posters that were plastered everywhere. The\\nblackmoustachio'd face gazed down from every commanding corner. There was one on the house-front\", metadata={'source': './files/george_orwell.pdf'})]"
      ]
     },
     "execution_count": 47,
     "metadata": {},
     "output_type": "execute_result"
    }
   ],
   "source": [
    "vectorstore.similarity_search(\"where is winston live\", top_k=2)"
   ]
  }
 ],
 "metadata": {
  "kernelspec": {
   "display_name": "env",
   "language": "python",
   "name": "python3"
  },
  "language_info": {
   "codemirror_mode": {
    "name": "ipython",
    "version": 3
   },
   "file_extension": ".py",
   "mimetype": "text/x-python",
   "name": "python",
   "nbconvert_exporter": "python",
   "pygments_lexer": "ipython3",
   "version": "3.10.8"
  }
 },
 "nbformat": 4,
 "nbformat_minor": 2
}
