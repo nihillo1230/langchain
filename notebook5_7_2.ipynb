{
 "cells": [
  {
   "cell_type": "code",
   "execution_count": 13,
   "metadata": {},
   "outputs": [
    {
     "name": "stdout",
     "output_type": "stream",
     "text": [
      "content='Hello Nico! How can I assist you today?'\n"
     ]
    },
    {
     "data": {
      "text/plain": [
       "{'history': [HumanMessage(content='My name is Nico.'),\n",
       "  AIMessage(content='Hello Nico! How can I assist you today?')]}"
      ]
     },
     "execution_count": 13,
     "metadata": {},
     "output_type": "execute_result"
    }
   ],
   "source": [
    "from langchain.memory import ConversationSummaryBufferMemory\n",
    "from langchain.chat_models import ChatOpenAI\n",
    "from langchain.schema.runnable import RunnablePassthrough\n",
    "from langchain.prompts import ChatPromptTemplate, MessagesPlaceholder\n",
    "\n",
    "llm = ChatOpenAI(temperature=0.1)\n",
    "\n",
    "memory = ConversationSummaryBufferMemory(\n",
    "    llm = llm,\n",
    "    max_token_limit = 80,\n",
    "    return_messages = True,\n",
    ") \n",
    "\n",
    "prompt = ChatPromptTemplate.from_messages([\n",
    "    (\"system\",\"You are a helpful AI talking to a human\"),\n",
    "    MessagesPlaceholder(variable_name = \"history\"),\n",
    "    (\"human\",\"{question}\")\n",
    "])\n",
    "\n",
    "def load_memory(_):\n",
    "    return memory.load_memory_variables({})[\"history\"]\n",
    "\n",
    "chain = RunnablePassthrough.assign(history=load_memory)|prompt | llm\n",
    "\n",
    "def invoke_chain(question):\n",
    "    result = chain.invoke({\"question\":question})\n",
    "    memory.save_context({\"input\":question},{\"output\":result.content})\n",
    "    print(result)\n",
    "\n",
    "invoke_chain(\"My name is Nico.\")\n",
    "memory.load_memory_variables({})"
   ]
  },
  {
   "cell_type": "code",
   "execution_count": 10,
   "metadata": {},
   "outputs": [
    {
     "name": "stdout",
     "output_type": "stream",
     "text": [
      "{'question': 'I live in Suwon'}\n",
      "content=\"That's great, Nico! Suwon is a wonderful city with a rich history and modern amenities. Is there anything you'd like to know or discuss about living in Suwon? Feel free to ask any questions or share your experiences!\"\n"
     ]
    }
   ],
   "source": [
    "invoke_chain(\"I live in Suwon\")\n"
   ]
  },
  {
   "cell_type": "code",
   "execution_count": 11,
   "metadata": {},
   "outputs": [
    {
     "name": "stdout",
     "output_type": "stream",
     "text": [
      "{'question': 'what is my name?'}\n",
      "content='Your name is Nico. How can I assist you further, Nico?'\n"
     ]
    }
   ],
   "source": [
    "invoke_chain(\"what is my name?\")"
   ]
  },
  {
   "cell_type": "code",
   "execution_count": 12,
   "metadata": {},
   "outputs": [
    {
     "data": {
      "text/plain": [
       "{'chat_history': [SystemMessage(content='Nico introduces themselves to the AI, mentioning they live in Suwon. The AI greets Nico and talks about the beauty of Suwon, known for its historical sites and vibrant culture. The AI invites Nico to ask any questions or share experiences about living in Suwon.'),\n",
       "  HumanMessage(content='what is my name?'),\n",
       "  AIMessage(content='Your name is Nico. How can I assist you further, Nico?')]}"
      ]
     },
     "execution_count": 12,
     "metadata": {},
     "output_type": "execute_result"
    }
   ],
   "source": [
    "memory.load_memory_variables({})"
   ]
  }
 ],
 "metadata": {
  "kernelspec": {
   "display_name": "env",
   "language": "python",
   "name": "python3"
  },
  "language_info": {
   "codemirror_mode": {
    "name": "ipython",
    "version": 3
   },
   "file_extension": ".py",
   "mimetype": "text/x-python",
   "name": "python",
   "nbconvert_exporter": "python",
   "pygments_lexer": "ipython3",
   "version": "3.10.8"
  }
 },
 "nbformat": 4,
 "nbformat_minor": 2
}
